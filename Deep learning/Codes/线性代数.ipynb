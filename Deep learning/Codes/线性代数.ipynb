{
 "cells": [
  {
   "cell_type": "markdown",
   "id": "f0499174",
   "metadata": {},
   "source": [
    "# 线性代数"
   ]
  },
  {
   "cell_type": "markdown",
   "id": "fbd6ca67",
   "metadata": {},
   "source": [
    "1.标量"
   ]
  },
  {
   "cell_type": "code",
   "execution_count": 3,
   "id": "11d8049c",
   "metadata": {},
   "outputs": [],
   "source": [
    "import torch \n",
    "\n",
    "x = torch.tensor(3.0)\n",
    "y = torch.tensor(2.0)  # tensor格式的标量"
   ]
  },
  {
   "cell_type": "code",
   "execution_count": 2,
   "id": "56da8802",
   "metadata": {},
   "outputs": [
    {
     "data": {
      "text/plain": [
       "(tensor(5.), tensor(6.), tensor(1.5000), tensor(9.))"
      ]
     },
     "execution_count": 2,
     "metadata": {},
     "output_type": "execute_result"
    }
   ],
   "source": [
    "x+y, x*y, x/y, x**y "
   ]
  },
  {
   "cell_type": "markdown",
   "id": "2e8f01be",
   "metadata": {},
   "source": [
    "2.向量"
   ]
  },
  {
   "cell_type": "code",
   "execution_count": 5,
   "id": "097c9fb8",
   "metadata": {},
   "outputs": [
    {
     "data": {
      "text/plain": [
       "tensor([0, 1, 2, 3])"
      ]
     },
     "execution_count": 5,
     "metadata": {},
     "output_type": "execute_result"
    }
   ],
   "source": [
    "x = torch.arange(4)\n",
    "x"
   ]
  },
  {
   "cell_type": "code",
   "execution_count": 6,
   "id": "89a5749d",
   "metadata": {},
   "outputs": [
    {
     "data": {
      "text/plain": [
       "tensor(3)"
      ]
     },
     "execution_count": 6,
     "metadata": {},
     "output_type": "execute_result"
    }
   ],
   "source": [
    "x[3]"
   ]
  },
  {
   "cell_type": "markdown",
   "id": "22db4486",
   "metadata": {},
   "source": [
    "张量的长度，维度，形状"
   ]
  },
  {
   "cell_type": "code",
   "execution_count": 8,
   "id": "72634190",
   "metadata": {
    "scrolled": true
   },
   "outputs": [
    {
     "name": "stdout",
     "output_type": "stream",
     "text": [
      "4\n",
      "torch.Size([4])\n",
      "torch.Size([3, 4])\n"
     ]
    }
   ],
   "source": [
    "print(len(x))\n",
    "print(x.shape)\n",
    "\n",
    "y = torch.arange(12).reshape(3,4)\n",
    "print(y.shape)"
   ]
  },
  {
   "cell_type": "markdown",
   "id": "6dac2e6c",
   "metadata": {},
   "source": [
    "矩阵"
   ]
  },
  {
   "cell_type": "code",
   "execution_count": 12,
   "id": "ffa45267",
   "metadata": {},
   "outputs": [],
   "source": [
    "A = torch.arange(20,dtype = torch.float32).reshape(5,4)"
   ]
  },
  {
   "cell_type": "code",
   "execution_count": 10,
   "id": "d3e30a9f",
   "metadata": {},
   "outputs": [
    {
     "data": {
      "text/plain": [
       "tensor([[ 0,  4,  8, 12, 16],\n",
       "        [ 1,  5,  9, 13, 17],\n",
       "        [ 2,  6, 10, 14, 18],\n",
       "        [ 3,  7, 11, 15, 19]])"
      ]
     },
     "execution_count": 10,
     "metadata": {},
     "output_type": "execute_result"
    }
   ],
   "source": [
    "A.T  #矩阵转置"
   ]
  },
  {
   "cell_type": "code",
   "execution_count": 11,
   "id": "3cfd9bd8",
   "metadata": {},
   "outputs": [
    {
     "data": {
      "text/plain": [
       "tensor([[1, 2, 3],\n",
       "        [2, 0, 4],\n",
       "        [3, 4, 5]])"
      ]
     },
     "execution_count": 11,
     "metadata": {},
     "output_type": "execute_result"
    }
   ],
   "source": [
    "B = torch.tensor([[1, 2, 3], [2, 0, 4], [3, 4, 5]]) #B是一个对称矩阵\n",
    "B"
   ]
  },
  {
   "cell_type": "code",
   "execution_count": 12,
   "id": "7ef2a4ec",
   "metadata": {},
   "outputs": [
    {
     "data": {
      "text/plain": [
       "tensor([[True, True, True],\n",
       "        [True, True, True],\n",
       "        [True, True, True]])"
      ]
     },
     "execution_count": 12,
     "metadata": {},
     "output_type": "execute_result"
    }
   ],
   "source": [
    "B == B.T"
   ]
  },
  {
   "cell_type": "markdown",
   "id": "b3a76b21",
   "metadata": {},
   "source": [
    "### 张量: 矩阵即二维张量"
   ]
  },
  {
   "cell_type": "code",
   "execution_count": 14,
   "id": "05830e62",
   "metadata": {},
   "outputs": [
    {
     "data": {
      "text/plain": [
       "tensor([[[ 0,  1,  2,  3],\n",
       "         [ 4,  5,  6,  7],\n",
       "         [ 8,  9, 10, 11]],\n",
       "\n",
       "        [[12, 13, 14, 15],\n",
       "         [16, 17, 18, 19],\n",
       "         [20, 21, 22, 23]]])"
      ]
     },
     "execution_count": 14,
     "metadata": {},
     "output_type": "execute_result"
    }
   ],
   "source": [
    "X = torch.arange(24).reshape(2,3,4)  #图像是一个三维张量\n",
    "X"
   ]
  },
  {
   "cell_type": "code",
   "execution_count": 20,
   "id": "352640ef",
   "metadata": {},
   "outputs": [
    {
     "data": {
      "text/plain": [
       "tensor([[[ 0,  2,  4,  6],\n",
       "         [ 8, 10, 12, 14],\n",
       "         [16, 18, 20, 22]],\n",
       "\n",
       "        [[24, 26, 28, 30],\n",
       "         [32, 34, 36, 38],\n",
       "         [40, 42, 44, 46]]])"
      ]
     },
     "execution_count": 20,
     "metadata": {},
     "output_type": "execute_result"
    }
   ],
   "source": [
    "Y = X.clone()\n",
    "Y+X"
   ]
  },
  {
   "cell_type": "markdown",
   "id": "142508a7",
   "metadata": {},
   "source": [
    "### Hadamard积:按元素相乘(逐个做乘法)"
   ]
  },
  {
   "cell_type": "code",
   "execution_count": 21,
   "id": "68f50056",
   "metadata": {},
   "outputs": [
    {
     "data": {
      "text/plain": [
       "tensor([[[  0,   1,   4,   9],\n",
       "         [ 16,  25,  36,  49],\n",
       "         [ 64,  81, 100, 121]],\n",
       "\n",
       "        [[144, 169, 196, 225],\n",
       "         [256, 289, 324, 361],\n",
       "         [400, 441, 484, 529]]])"
      ]
     },
     "execution_count": 21,
     "metadata": {},
     "output_type": "execute_result"
    }
   ],
   "source": [
    "Y*X"
   ]
  },
  {
   "cell_type": "code",
   "execution_count": 23,
   "id": "35c5de78",
   "metadata": {},
   "outputs": [
    {
     "name": "stdout",
     "output_type": "stream",
     "text": [
      "tensor([[[ 0,  1,  2,  3],\n",
      "         [ 4,  5,  6,  7],\n",
      "         [ 8,  9, 10, 11]],\n",
      "\n",
      "        [[12, 13, 14, 15],\n",
      "         [16, 17, 18, 19],\n",
      "         [20, 21, 22, 23]]])\n",
      "tensor([[[ 2,  3,  4,  5],\n",
      "         [ 6,  7,  8,  9],\n",
      "         [10, 11, 12, 13]],\n",
      "\n",
      "        [[14, 15, 16, 17],\n",
      "         [18, 19, 20, 21],\n",
      "         [22, 23, 24, 25]]])\n",
      "tensor([[[ 0,  2,  4,  6],\n",
      "         [ 8, 10, 12, 14],\n",
      "         [16, 18, 20, 22]],\n",
      "\n",
      "        [[24, 26, 28, 30],\n",
      "         [32, 34, 36, 38],\n",
      "         [40, 42, 44, 46]]])\n"
     ]
    }
   ],
   "source": [
    "a = 2 \n",
    "print(X)\n",
    "print(a+X)\n",
    "print(a*X)"
   ]
  },
  {
   "cell_type": "markdown",
   "id": "3d6fb1d4",
   "metadata": {},
   "source": [
    "### 数据降维"
   ]
  },
  {
   "cell_type": "code",
   "execution_count": 24,
   "id": "28dbec35",
   "metadata": {},
   "outputs": [
    {
     "data": {
      "text/plain": [
       "(tensor([0., 1., 2., 3.]), tensor(6.))"
      ]
     },
     "execution_count": 24,
     "metadata": {},
     "output_type": "execute_result"
    }
   ],
   "source": [
    "x = torch.arange(4, dtype=torch.float32)\n",
    "x, x.sum()"
   ]
  },
  {
   "cell_type": "code",
   "execution_count": 25,
   "id": "f7f2ac23",
   "metadata": {},
   "outputs": [
    {
     "data": {
      "text/plain": [
       "tensor([[ 0,  1,  2,  3],\n",
       "        [ 4,  5,  6,  7],\n",
       "        [ 8,  9, 10, 11],\n",
       "        [12, 13, 14, 15],\n",
       "        [16, 17, 18, 19]])"
      ]
     },
     "execution_count": 25,
     "metadata": {},
     "output_type": "execute_result"
    }
   ],
   "source": [
    "A"
   ]
  },
  {
   "cell_type": "code",
   "execution_count": 26,
   "id": "1d63415c",
   "metadata": {},
   "outputs": [
    {
     "data": {
      "text/plain": [
       "tensor(190)"
      ]
     },
     "execution_count": 26,
     "metadata": {},
     "output_type": "execute_result"
    }
   ],
   "source": [
    "A.sum()"
   ]
  },
  {
   "cell_type": "code",
   "execution_count": 28,
   "id": "7a1cf1f5",
   "metadata": {},
   "outputs": [
    {
     "data": {
      "text/plain": [
       "tensor(22)"
      ]
     },
     "execution_count": 28,
     "metadata": {},
     "output_type": "execute_result"
    }
   ],
   "source": [
    "A[1].sum()"
   ]
  },
  {
   "cell_type": "markdown",
   "id": "f35776c9",
   "metadata": {},
   "source": [
    "指定沿某个轴求和"
   ]
  },
  {
   "cell_type": "code",
   "execution_count": 7,
   "id": "b9161065",
   "metadata": {},
   "outputs": [
    {
     "data": {
      "text/plain": [
       "(tensor([40, 45, 50, 55]), torch.Size([4]))"
      ]
     },
     "execution_count": 7,
     "metadata": {},
     "output_type": "execute_result"
    }
   ],
   "source": [
    "A_sum_axis0 = A.sum(axis=0)    # axis = 0 即:按照行求和 \n",
    "A_sum_axis0, A_sum_axis0.shape"
   ]
  },
  {
   "cell_type": "code",
   "execution_count": 8,
   "id": "2174d1cc",
   "metadata": {},
   "outputs": [
    {
     "data": {
      "text/plain": [
       "tensor(190)"
      ]
     },
     "execution_count": 8,
     "metadata": {},
     "output_type": "execute_result"
    }
   ],
   "source": [
    "A.sum(axis=[0,1]) #沿着行和列求和（也即对矩阵所有值进行求和）"
   ]
  },
  {
   "cell_type": "code",
   "execution_count": 15,
   "id": "9ae92da6",
   "metadata": {},
   "outputs": [
    {
     "data": {
      "text/plain": [
       "(tensor(9.5000), tensor(190.), 20, tensor(9.5000))"
      ]
     },
     "execution_count": 15,
     "metadata": {},
     "output_type": "execute_result"
    }
   ],
   "source": [
    "A.mean(), A.sum(), A.numel(), A.sum()/A.numel()"
   ]
  },
  {
   "cell_type": "markdown",
   "id": "63ea54d7",
   "metadata": {},
   "source": [
    "非降维形式的求和"
   ]
  },
  {
   "cell_type": "code",
   "execution_count": 18,
   "id": "c143561e",
   "metadata": {},
   "outputs": [
    {
     "data": {
      "text/plain": [
       "(tensor([[ 6.],\n",
       "         [22.],\n",
       "         [38.],\n",
       "         [54.],\n",
       "         [70.]]),\n",
       " tensor([[ 0.,  1.,  2.,  3.],\n",
       "         [ 4.,  5.,  6.,  7.],\n",
       "         [ 8.,  9., 10., 11.],\n",
       "         [12., 13., 14., 15.],\n",
       "         [16., 17., 18., 19.]]))"
      ]
     },
     "execution_count": 18,
     "metadata": {},
     "output_type": "execute_result"
    }
   ],
   "source": [
    "sum_A = A.sum(axis=1, keepdims=True)  # 保留了行数：可以通过广播与A做运算\n",
    "sum_A, A"
   ]
  },
  {
   "cell_type": "code",
   "execution_count": 20,
   "id": "7bed081f",
   "metadata": {},
   "outputs": [
    {
     "data": {
      "text/plain": [
       "tensor([[0.0000, 0.1667, 0.3333, 0.5000],\n",
       "        [0.1818, 0.2273, 0.2727, 0.3182],\n",
       "        [0.2105, 0.2368, 0.2632, 0.2895],\n",
       "        [0.2222, 0.2407, 0.2593, 0.2778],\n",
       "        [0.2286, 0.2429, 0.2571, 0.2714]])"
      ]
     },
     "execution_count": 20,
     "metadata": {},
     "output_type": "execute_result"
    }
   ],
   "source": [
    "A/sum_A"
   ]
  },
  {
   "cell_type": "markdown",
   "id": "7095e110",
   "metadata": {},
   "source": [
    "沿某行/列的顺序计算累计的总和"
   ]
  },
  {
   "cell_type": "code",
   "execution_count": 21,
   "id": "b55ca847",
   "metadata": {},
   "outputs": [
    {
     "data": {
      "text/plain": [
       "(tensor([[ 0.,  1.,  2.,  3.],\n",
       "         [ 4.,  6.,  8., 10.],\n",
       "         [12., 15., 18., 21.],\n",
       "         [24., 28., 32., 36.],\n",
       "         [40., 45., 50., 55.]]),\n",
       " tensor([[ 0.,  1.,  3.,  6.],\n",
       "         [ 4.,  9., 15., 22.],\n",
       "         [ 8., 17., 27., 38.],\n",
       "         [12., 25., 39., 54.],\n",
       "         [16., 33., 51., 70.]]))"
      ]
     },
     "execution_count": 21,
     "metadata": {},
     "output_type": "execute_result"
    }
   ],
   "source": [
    "A.cumsum(axis=0), A.cumsum(axis=1)"
   ]
  },
  {
   "cell_type": "markdown",
   "id": "2a4dd461",
   "metadata": {},
   "source": [
    "### 点积"
   ]
  },
  {
   "cell_type": "code",
   "execution_count": 23,
   "id": "5a3fb960",
   "metadata": {},
   "outputs": [
    {
     "data": {
      "text/plain": [
       "(tensor([0., 1., 2., 3.]), tensor([1., 1., 1., 1.]), tensor(6.))"
      ]
     },
     "execution_count": 23,
     "metadata": {},
     "output_type": "execute_result"
    }
   ],
   "source": [
    "x = torch.arange(4,dtype=torch.float32)\n",
    "y = torch.ones(4,dtype = torch.float32)\n",
    "x, y, torch.dot(x,y)\n",
    "#即x^T·y"
   ]
  },
  {
   "cell_type": "code",
   "execution_count": 25,
   "id": "6157faaa",
   "metadata": {},
   "outputs": [
    {
     "data": {
      "text/plain": [
       "(tensor(6.), tensor(6.))"
      ]
     },
     "execution_count": 25,
     "metadata": {},
     "output_type": "execute_result"
    }
   ],
   "source": [
    "#也即x*y求和\n",
    "torch.sum(x*y), (x*y).sum()"
   ]
  },
  {
   "cell_type": "markdown",
   "id": "f6ce356e",
   "metadata": {},
   "source": [
    "### 矩阵-向量积"
   ]
  },
  {
   "cell_type": "code",
   "execution_count": 26,
   "id": "c6a5b6cb",
   "metadata": {},
   "outputs": [
    {
     "data": {
      "text/plain": [
       "tensor([[ 0.,  1.,  2.,  3.],\n",
       "        [ 4.,  5.,  6.,  7.],\n",
       "        [ 8.,  9., 10., 11.],\n",
       "        [12., 13., 14., 15.],\n",
       "        [16., 17., 18., 19.]])"
      ]
     },
     "execution_count": 26,
     "metadata": {},
     "output_type": "execute_result"
    }
   ],
   "source": [
    "A.shape, x.shape, torch.mv(A,x) #矩阵·向量"
   ]
  },
  {
   "cell_type": "markdown",
   "id": "50008194",
   "metadata": {},
   "source": [
    "### 矩阵-矩阵积"
   ]
  },
  {
   "cell_type": "code",
   "execution_count": 27,
   "id": "f58a8a08",
   "metadata": {},
   "outputs": [
    {
     "data": {
      "text/plain": [
       "tensor([[ 6.,  6.,  6.],\n",
       "        [22., 22., 22.],\n",
       "        [38., 38., 38.],\n",
       "        [54., 54., 54.],\n",
       "        [70., 70., 70.]])"
      ]
     },
     "execution_count": 27,
     "metadata": {},
     "output_type": "execute_result"
    }
   ],
   "source": [
    "B = torch.ones(4,3)\n",
    "torch.mm(A,B) #矩阵乘法，不同于Hadamard积"
   ]
  },
  {
   "cell_type": "markdown",
   "id": "1733cc87",
   "metadata": {},
   "source": [
    "### 范数"
   ]
  },
  {
   "cell_type": "code",
   "execution_count": 28,
   "id": "536d4b3d",
   "metadata": {},
   "outputs": [
    {
     "data": {
      "text/plain": [
       "tensor(5.)"
      ]
     },
     "execution_count": 28,
     "metadata": {},
     "output_type": "execute_result"
    }
   ],
   "source": [
    "# L2范数\n",
    "u = torch.tensor([3.0,-4.0])\n",
    "torch.norm(u)"
   ]
  },
  {
   "cell_type": "code",
   "execution_count": 29,
   "id": "2a3b5cae",
   "metadata": {},
   "outputs": [
    {
     "data": {
      "text/plain": [
       "tensor(7.)"
      ]
     },
     "execution_count": 29,
     "metadata": {},
     "output_type": "execute_result"
    }
   ],
   "source": [
    "# L1范数\n",
    "torch.abs(u).sum()"
   ]
  },
  {
   "cell_type": "code",
   "execution_count": 30,
   "id": "13557a2f",
   "metadata": {},
   "outputs": [
    {
     "data": {
      "text/plain": [
       "tensor(6.)"
      ]
     },
     "execution_count": 30,
     "metadata": {},
     "output_type": "execute_result"
    }
   ],
   "source": [
    "torch.norm(torch.ones(4,9))\n",
    "#即根号36"
   ]
  },
  {
   "cell_type": "markdown",
   "id": "ab61664a",
   "metadata": {},
   "source": [
    "## 练习:"
   ]
  },
  {
   "cell_type": "code",
   "execution_count": 32,
   "id": "c31116c8",
   "metadata": {},
   "outputs": [
    {
     "data": {
      "text/plain": [
       "tensor([[[True, True, True, True],\n",
       "         [True, True, True, True],\n",
       "         [True, True, True, True]]])"
      ]
     },
     "execution_count": 32,
     "metadata": {},
     "output_type": "execute_result"
    }
   ],
   "source": [
    "#Q1\n",
    "A = torch.arange(12, dtype=torch.float32).reshape(1,3,4)\n",
    "(A.T).T == A"
   ]
  },
  {
   "cell_type": "code",
   "execution_count": 36,
   "id": "6ccac804",
   "metadata": {},
   "outputs": [
    {
     "data": {
      "text/plain": [
       "tensor([[[True],\n",
       "         [True],\n",
       "         [True]],\n",
       "\n",
       "        [[True],\n",
       "         [True],\n",
       "         [True]],\n",
       "\n",
       "        [[True],\n",
       "         [True],\n",
       "         [True]],\n",
       "\n",
       "        [[True],\n",
       "         [True],\n",
       "         [True]]])"
      ]
     },
     "execution_count": 36,
     "metadata": {},
     "output_type": "execute_result"
    }
   ],
   "source": [
    "#Q2\n",
    "B = A\n",
    "B = B+1\n",
    "A.T+B.T == (A+B).T"
   ]
  },
  {
   "cell_type": "code",
   "execution_count": 45,
   "id": "24e66be9",
   "metadata": {},
   "outputs": [
    {
     "data": {
      "text/plain": [
       "2"
      ]
     },
     "execution_count": 45,
     "metadata": {},
     "output_type": "execute_result"
    }
   ],
   "source": [
    "x = torch.arange(24, dtype=torch.float32).reshape(2,3,4)\n",
    "len(x)"
   ]
  },
  {
   "cell_type": "code",
   "execution_count": 40,
   "id": "a5b81aad",
   "metadata": {},
   "outputs": [
    {
     "data": {
      "text/plain": [
       "tensor([[[0.0000, 0.0667, 0.1111, 0.1429],\n",
       "         [0.3333, 0.3333, 0.3333, 0.3333],\n",
       "         [0.6667, 0.6000, 0.5556, 0.5238]]])"
      ]
     },
     "execution_count": 40,
     "metadata": {},
     "output_type": "execute_result"
    }
   ],
   "source": [
    "A/A.sum(axis=1)"
   ]
  },
  {
   "cell_type": "code",
   "execution_count": 46,
   "id": "17c52c90",
   "metadata": {},
   "outputs": [
    {
     "data": {
      "text/plain": [
       "(tensor([[[ 0,  1,  2,  3],\n",
       "          [ 4,  5,  6,  7],\n",
       "          [ 8,  9, 10, 11]],\n",
       " \n",
       "         [[12, 13, 14, 15],\n",
       "          [16, 17, 18, 19],\n",
       "          [20, 21, 22, 23]]]),\n",
       " tensor([[12, 14, 16, 18],\n",
       "         [20, 22, 24, 26],\n",
       "         [28, 30, 32, 34]]),\n",
       " tensor([[12, 15, 18, 21],\n",
       "         [48, 51, 54, 57]]),\n",
       " tensor([[ 6, 22, 38],\n",
       "         [54, 70, 86]]))"
      ]
     },
     "execution_count": 46,
     "metadata": {},
     "output_type": "execute_result"
    }
   ],
   "source": [
    "x, x.sum(axis=0), x.sum(axis=1), x.sum(axis=2)"
   ]
  },
  {
   "cell_type": "code",
   "execution_count": 49,
   "id": "6bbdaacd",
   "metadata": {},
   "outputs": [
    {
     "ename": "RuntimeError",
     "evalue": "linalg.vector_norm: Expected a floating point or complex tensor as input. Got Long",
     "output_type": "error",
     "traceback": [
      "\u001b[1;31m---------------------------------------------------------------------------\u001b[0m",
      "\u001b[1;31mRuntimeError\u001b[0m                              Traceback (most recent call last)",
      "\u001b[1;32m~\\AppData\\Local\\Temp/ipykernel_21940/118091261.py\u001b[0m in \u001b[0;36m<module>\u001b[1;34m\u001b[0m\n\u001b[1;32m----> 1\u001b[1;33m \u001b[0mtorch\u001b[0m\u001b[1;33m.\u001b[0m\u001b[0mlinalg\u001b[0m\u001b[1;33m.\u001b[0m\u001b[0mnorm\u001b[0m\u001b[1;33m(\u001b[0m\u001b[0mx\u001b[0m\u001b[1;33m)\u001b[0m\u001b[1;33m\u001b[0m\u001b[1;33m\u001b[0m\u001b[0m\n\u001b[0m",
      "\u001b[1;31mRuntimeError\u001b[0m: linalg.vector_norm: Expected a floating point or complex tensor as input. Got Long"
     ]
    }
   ],
   "source": [
    "torch.linalg.norm(x)"
   ]
  },
  {
   "cell_type": "code",
   "execution_count": null,
   "id": "db4a4b99",
   "metadata": {},
   "outputs": [],
   "source": []
  }
 ],
 "metadata": {
  "kernelspec": {
   "display_name": "Python 3 (ipykernel)",
   "language": "python",
   "name": "python3"
  },
  "language_info": {
   "codemirror_mode": {
    "name": "ipython",
    "version": 3
   },
   "file_extension": ".py",
   "mimetype": "text/x-python",
   "name": "python",
   "nbconvert_exporter": "python",
   "pygments_lexer": "ipython3",
   "version": "3.9.7"
  }
 },
 "nbformat": 4,
 "nbformat_minor": 5
}
