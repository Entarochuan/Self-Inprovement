{
 "cells": [
  {
   "cell_type": "markdown",
   "id": "7a1c0faf",
   "metadata": {},
   "source": [
    "# Data Processing --预备知识"
   ]
  },
  {
   "cell_type": "code",
   "execution_count": 2,
   "id": "e7298608",
   "metadata": {},
   "outputs": [
    {
     "data": {
      "text/plain": [
       "tensor([ 0,  1,  2,  3,  4,  5,  6,  7,  8,  9, 10, 11])"
      ]
     },
     "execution_count": 2,
     "metadata": {},
     "output_type": "execute_result"
    }
   ],
   "source": [
    "import torch \n",
    "x = torch.arange(12)\n",
    "x"
   ]
  },
  {
   "cell_type": "code",
   "execution_count": 3,
   "id": "d3d9ed0d",
   "metadata": {},
   "outputs": [
    {
     "data": {
      "text/plain": [
       "torch.Size([12])"
      ]
     },
     "execution_count": 3,
     "metadata": {},
     "output_type": "execute_result"
    }
   ],
   "source": [
    "x.shape"
   ]
  },
  {
   "cell_type": "code",
   "execution_count": 6,
   "id": "552678b9",
   "metadata": {},
   "outputs": [
    {
     "name": "stdout",
     "output_type": "stream",
     "text": [
      "torch.Size([12])\n",
      "12\n"
     ]
    }
   ],
   "source": [
    "print(x.size())\n",
    "print(x.numel())  #numel函数输出元素的总个数"
   ]
  },
  {
   "cell_type": "code",
   "execution_count": 10,
   "id": "624824cb",
   "metadata": {},
   "outputs": [
    {
     "data": {
      "text/plain": [
       "tensor([[ 0,  1,  2,  3],\n",
       "        [ 4,  5,  6,  7],\n",
       "        [ 8,  9, 10, 11]])"
      ]
     },
     "execution_count": 10,
     "metadata": {},
     "output_type": "execute_result"
    }
   ],
   "source": [
    "x.reshape(3,4)  #优先排列行，再是列\n",
    "y = x.reshape(-1,4) #希望张量有四列，但是不清楚总共有多少个数\n",
    "y  #当然也可以用numel来做"
   ]
  },
  {
   "cell_type": "code",
   "execution_count": 11,
   "id": "f5bdd5ed",
   "metadata": {},
   "outputs": [
    {
     "data": {
      "text/plain": [
       "tensor([[[0., 0., 0., 0.],\n",
       "         [0., 0., 0., 0.],\n",
       "         [0., 0., 0., 0.]],\n",
       "\n",
       "        [[0., 0., 0., 0.],\n",
       "         [0., 0., 0., 0.],\n",
       "         [0., 0., 0., 0.]]])"
      ]
     },
     "execution_count": 11,
     "metadata": {},
     "output_type": "execute_result"
    }
   ],
   "source": [
    "torch.zeros((2,3,4)) #两层括号"
   ]
  },
  {
   "cell_type": "code",
   "execution_count": 12,
   "id": "0b5eae27",
   "metadata": {},
   "outputs": [
    {
     "data": {
      "text/plain": [
       "tensor([[[1., 1., 1., 1.],\n",
       "         [1., 1., 1., 1.],\n",
       "         [1., 1., 1., 1.]],\n",
       "\n",
       "        [[1., 1., 1., 1.],\n",
       "         [1., 1., 1., 1.],\n",
       "         [1., 1., 1., 1.]]])"
      ]
     },
     "execution_count": 12,
     "metadata": {},
     "output_type": "execute_result"
    }
   ],
   "source": [
    "torch.ones((2,3,4))"
   ]
  },
  {
   "cell_type": "markdown",
   "id": "0ce7afe3",
   "metadata": {},
   "source": [
    "生成标准高斯分布:均值为0，标准差为1"
   ]
  },
  {
   "cell_type": "code",
   "execution_count": 13,
   "id": "6e3019df",
   "metadata": {},
   "outputs": [
    {
     "data": {
      "text/plain": [
       "tensor([[-1.2823, -1.9054,  1.0786,  0.0183],\n",
       "        [-0.3209, -0.4304,  2.4318,  0.6853],\n",
       "        [-0.1476,  0.6301,  1.5869, -1.0403]])"
      ]
     },
     "execution_count": 13,
     "metadata": {},
     "output_type": "execute_result"
    }
   ],
   "source": [
    "torch.randn(3,4)"
   ]
  },
  {
   "cell_type": "code",
   "execution_count": 19,
   "id": "7e08f9b0",
   "metadata": {},
   "outputs": [
    {
     "data": {
      "text/plain": [
       "tensor([1, 2, 3, 4])"
      ]
     },
     "execution_count": 19,
     "metadata": {},
     "output_type": "execute_result"
    }
   ],
   "source": [
    "tmp = torch.tensor([[2, 1, 4, 3], [1, 2, 3, 4], [4, 3, 2, 1]])\n",
    "tmp[1]"
   ]
  },
  {
   "cell_type": "markdown",
   "id": "f8509aca",
   "metadata": {},
   "source": [
    "按<u>元素</u>作张量运算"
   ]
  },
  {
   "cell_type": "code",
   "execution_count": 27,
   "id": "78013f00",
   "metadata": {},
   "outputs": [
    {
     "name": "stdout",
     "output_type": "stream",
     "text": [
      "x+y =  tensor([ 3.,  4.,  6., 10.])\n",
      "x*y =  tensor([ 2.,  4.,  8., 16.])\n",
      "x/y =  tensor([0.5000, 1.0000, 2.0000, 4.0000])\n",
      "x**y= tensor([ 1.,  4., 16., 64.])\n",
      "e^x= tensor([2.7183e+00, 7.3891e+00, 5.4598e+01, 2.9810e+03])\n"
     ]
    }
   ],
   "source": [
    "x = torch.tensor([1.0, 2, 4, 8])\n",
    "y = torch.tensor([2, 2, 2, 2])    #加的操作要求满足矩阵特性(行列)\n",
    "print(\"x+y = \",(x+y))\n",
    "print(\"x*y = \",(x*y)) #这个是做逐项相乘\n",
    "print(\"x/y = \",(x/y)) #逐项相除\n",
    "print(\"x**y=\",(x**y)) #逐项次方\n",
    "print(\"e^x=\",torch.exp(x)) #把x的每一位作为指数"
   ]
  },
  {
   "cell_type": "markdown",
   "id": "33a321cb",
   "metadata": {},
   "source": [
    "#### 按<u>元素</u>作张量运算\n",
    "\n",
    "dim = 0 : 在行上叠加\n",
    "\n",
    "dim = 1 : 在列上叠加"
   ]
  },
  {
   "cell_type": "code",
   "execution_count": 34,
   "id": "8512664e",
   "metadata": {},
   "outputs": [
    {
     "data": {
      "text/plain": [
       "(tensor([[ 0.,  1.,  2.,  3.],\n",
       "         [ 4.,  5.,  6.,  7.],\n",
       "         [ 8.,  9., 10., 11.],\n",
       "         [ 2.,  1.,  4.,  3.],\n",
       "         [ 1.,  2.,  3.,  4.],\n",
       "         [ 4.,  3.,  2.,  1.]]),\n",
       " tensor([[ 0.,  1.,  2.,  3.,  2.,  1.,  4.,  3.],\n",
       "         [ 4.,  5.,  6.,  7.,  1.,  2.,  3.,  4.],\n",
       "         [ 8.,  9., 10., 11.,  4.,  3.,  2.,  1.]]))"
      ]
     },
     "execution_count": 34,
     "metadata": {},
     "output_type": "execute_result"
    }
   ],
   "source": [
    "X = torch.arange(12, dtype=torch.float32).reshape((3,4))\n",
    "Y = torch.tensor([[2.0, 1, 4, 3], [1, 2, 3, 4], [4, 3, 2, 1]])\n",
    "torch.cat((X, Y), dim=0), torch.cat((X, Y), dim=1)\n",
    "#把x叠加到y上面去"
   ]
  },
  {
   "cell_type": "code",
   "execution_count": 37,
   "id": "4f547954",
   "metadata": {},
   "outputs": [
    {
     "name": "stdout",
     "output_type": "stream",
     "text": [
      "tensor([[False,  True, False,  True],\n",
      "        [False, False, False, False],\n",
      "        [False, False, False, False]])\n",
      "tensor([[False, False, False, False],\n",
      "        [ True,  True,  True,  True],\n",
      "        [ True,  True,  True,  True]])\n"
     ]
    }
   ],
   "source": [
    "print(X==Y) #返回两个张量各个位置处值对比的结果\n",
    "print(X>Y)"
   ]
  },
  {
   "cell_type": "code",
   "execution_count": 43,
   "id": "270e4636",
   "metadata": {},
   "outputs": [
    {
     "data": {
      "text/plain": [
       "tensor(66.)"
      ]
     },
     "execution_count": 43,
     "metadata": {},
     "output_type": "execute_result"
    }
   ],
   "source": [
    "X.sum() #得到的是一个单元素张量"
   ]
  },
  {
   "cell_type": "markdown",
   "id": "b3c48ba3",
   "metadata": {},
   "source": [
    "广播机制:在大部分情况下，沿着长度为1的轴进行广播。\n",
    "机制为:先复制再相加"
   ]
  },
  {
   "cell_type": "code",
   "execution_count": 45,
   "id": "fac89504",
   "metadata": {
    "scrolled": false
   },
   "outputs": [
    {
     "name": "stdout",
     "output_type": "stream",
     "text": [
      "tensor([[0],\n",
      "        [1],\n",
      "        [2]]) tensor([[0, 1]])\n",
      "a+b= tensor([[0, 1],\n",
      "        [1, 2],\n",
      "        [2, 3]])\n"
     ]
    }
   ],
   "source": [
    "a = torch.arange(3).reshape((3,1))\n",
    "b = torch.arange(2).reshape((1,2))\n",
    "print(a,b)\n",
    "print(\"a+b=\",a+b)"
   ]
  },
  {
   "cell_type": "markdown",
   "id": "c4d1791a",
   "metadata": {},
   "source": [
    "当广播长度不为1时出现报错"
   ]
  },
  {
   "cell_type": "markdown",
   "id": "90ed3398",
   "metadata": {},
   "source": [
    "### 索引和切片"
   ]
  },
  {
   "cell_type": "code",
   "execution_count": 65,
   "id": "afe483ae",
   "metadata": {},
   "outputs": [
    {
     "name": "stdout",
     "output_type": "stream",
     "text": [
      "tensor([ 8.,  9., 10., 11.])\n",
      "tensor([[ 4.,  5.,  6.,  7.],\n",
      "        [ 8.,  9., 10., 11.]])\n"
     ]
    }
   ],
   "source": [
    "X = torch.arange(12,dtype=torch.float32).reshape(3,4)\n",
    "print(X[-1])  #输出的是最后一行\n",
    "print(X[1:3])"
   ]
  },
  {
   "cell_type": "markdown",
   "id": "9348331a",
   "metadata": {},
   "source": [
    "写入"
   ]
  },
  {
   "cell_type": "code",
   "execution_count": 52,
   "id": "d4fe3036",
   "metadata": {},
   "outputs": [
    {
     "data": {
      "text/plain": [
       "tensor([[ 0,  1,  2,  3],\n",
       "        [ 4,  5,  9,  7],\n",
       "        [ 8,  9, 10, 11]])"
      ]
     },
     "execution_count": 52,
     "metadata": {},
     "output_type": "execute_result"
    }
   ],
   "source": [
    "X[1,2] = 9 \n",
    "X"
   ]
  },
  {
   "cell_type": "code",
   "execution_count": 58,
   "id": "f94795c0",
   "metadata": {},
   "outputs": [
    {
     "data": {
      "text/plain": [
       "tensor([[12, 12, 12, 12],\n",
       "        [12, 12, 12, 12],\n",
       "        [ 8,  9, 10, 11]])"
      ]
     },
     "execution_count": 58,
     "metadata": {},
     "output_type": "execute_result"
    }
   ],
   "source": [
    "X[0:3]  #A:B表示第A行到第B-1行\n",
    "X[0:2,:] = 12 #为选出的行赋值\n",
    "X"
   ]
  },
  {
   "cell_type": "markdown",
   "id": "dccbb373",
   "metadata": {},
   "source": [
    "### 节省内存"
   ]
  },
  {
   "cell_type": "code",
   "execution_count": 59,
   "id": "ba987edf",
   "metadata": {},
   "outputs": [
    {
     "data": {
      "text/plain": [
       "False"
      ]
     },
     "execution_count": 59,
     "metadata": {},
     "output_type": "execute_result"
    }
   ],
   "source": [
    "#通过id()函数可以查看数据存放位置\n",
    "before = id(Y)\n",
    "Y = Y+X\n",
    "id(Y) == before\n",
    "#发现Y被指向了一个新的地址"
   ]
  },
  {
   "cell_type": "markdown",
   "id": "75e1bef9",
   "metadata": {},
   "source": [
    "执行原地操作的方法:"
   ]
  },
  {
   "cell_type": "code",
   "execution_count": 60,
   "id": "96095235",
   "metadata": {},
   "outputs": [
    {
     "name": "stdout",
     "output_type": "stream",
     "text": [
      "2046757238400\n",
      "2046757238400\n"
     ]
    }
   ],
   "source": [
    " #1\n",
    "Z = torch.zeros_like(Y)\n",
    "print(id(Z))\n",
    "Z[:] = X+Y\n",
    "print(id(Z))"
   ]
  },
  {
   "cell_type": "code",
   "execution_count": 66,
   "id": "342afabf",
   "metadata": {},
   "outputs": [
    {
     "name": "stdout",
     "output_type": "stream",
     "text": [
      "2046757237600\n",
      "2046757237600\n"
     ]
    }
   ],
   "source": [
    "print(id(X))\n",
    "X += Y     #用+=操作也可行\n",
    "print(id(X))"
   ]
  },
  {
   "cell_type": "markdown",
   "id": "503393e8",
   "metadata": {},
   "source": [
    "#### 转换为其它python对象\n",
    "\n",
    "也即：将张量和其它库的python对象进行互相转换"
   ]
  },
  {
   "cell_type": "code",
   "execution_count": 67,
   "id": "a5a0ff09",
   "metadata": {},
   "outputs": [
    {
     "data": {
      "text/plain": [
       "(numpy.ndarray, torch.Tensor)"
      ]
     },
     "execution_count": 67,
     "metadata": {},
     "output_type": "execute_result"
    }
   ],
   "source": [
    "A = X.numpy()\n",
    "B = torch.tensor(A)\n",
    "type(A), type(B)"
   ]
  },
  {
   "cell_type": "code",
   "execution_count": 68,
   "id": "806c99c1",
   "metadata": {},
   "outputs": [
    {
     "data": {
      "text/plain": [
       "(array([[14., 14., 18., 18.],\n",
       "        [17., 19., 21., 23.],\n",
       "        [20., 21., 22., 23.]], dtype=float32),\n",
       " tensor([[14., 14., 18., 18.],\n",
       "         [17., 19., 21., 23.],\n",
       "         [20., 21., 22., 23.]]))"
      ]
     },
     "execution_count": 68,
     "metadata": {},
     "output_type": "execute_result"
    }
   ],
   "source": [
    "A,B"
   ]
  },
  {
   "cell_type": "markdown",
   "id": "9486f613",
   "metadata": {},
   "source": [
    "将张量转化为标量"
   ]
  },
  {
   "cell_type": "code",
   "execution_count": 81,
   "id": "02c92425",
   "metadata": {},
   "outputs": [
    {
     "data": {
      "text/plain": [
       "tensor([3., 2.])"
      ]
     },
     "execution_count": 81,
     "metadata": {},
     "output_type": "execute_result"
    }
   ],
   "source": [
    "a = torch.tensor([3.1,2.5])\n",
    "for i in range(len(a)):\n",
    "    a[i] = int(a[i])\n",
    "a"
   ]
  },
  {
   "cell_type": "code",
   "execution_count": 84,
   "id": "056602da",
   "metadata": {},
   "outputs": [],
   "source": [
    "a = a.int()"
   ]
  },
  {
   "cell_type": "code",
   "execution_count": 85,
   "id": "1aba02b0",
   "metadata": {},
   "outputs": [
    {
     "data": {
      "text/plain": [
       "tensor([3., 2.])"
      ]
     },
     "execution_count": 85,
     "metadata": {},
     "output_type": "execute_result"
    }
   ],
   "source": [
    "a = a.float()\n",
    "a"
   ]
  },
  {
   "cell_type": "markdown",
   "id": "5eba45cf",
   "metadata": {},
   "source": [
    "以上的方法可以快速转换torch内数据的形式"
   ]
  },
  {
   "cell_type": "markdown",
   "id": "c60dd15a",
   "metadata": {},
   "source": [
    "练习T2"
   ]
  },
  {
   "cell_type": "code",
   "execution_count": 111,
   "id": "be59c7a0",
   "metadata": {
    "scrolled": false
   },
   "outputs": [
    {
     "data": {
      "text/plain": [
       "(tensor([[[0, 1],\n",
       "          [2, 3]]]),\n",
       " tensor([[[0, 1]],\n",
       " \n",
       "         [[2, 3]],\n",
       " \n",
       "         [[4, 5]],\n",
       " \n",
       "         [[6, 7]]]))"
      ]
     },
     "execution_count": 111,
     "metadata": {},
     "output_type": "execute_result"
    }
   ],
   "source": [
    "#替换张量:\n",
    "a = torch.arange(4).reshape(1,2,2)\n",
    "b = torch.arange(8).reshape(4,1,2)\n",
    "a,b   #需要保证"
   ]
  },
  {
   "cell_type": "code",
   "execution_count": 112,
   "id": "680518c2",
   "metadata": {},
   "outputs": [
    {
     "data": {
      "text/plain": [
       "tensor([[[ 0,  2],\n",
       "         [ 2,  4]],\n",
       "\n",
       "        [[ 2,  4],\n",
       "         [ 4,  6]],\n",
       "\n",
       "        [[ 4,  6],\n",
       "         [ 6,  8]],\n",
       "\n",
       "        [[ 6,  8],\n",
       "         [ 8, 10]]])"
      ]
     },
     "execution_count": 112,
     "metadata": {},
     "output_type": "execute_result"
    }
   ],
   "source": [
    "a+b"
   ]
  },
  {
   "cell_type": "code",
   "execution_count": null,
   "id": "ae328b23",
   "metadata": {},
   "outputs": [],
   "source": []
  }
 ],
 "metadata": {
  "kernelspec": {
   "display_name": "Python 3 (ipykernel)",
   "language": "python",
   "name": "python3"
  },
  "language_info": {
   "codemirror_mode": {
    "name": "ipython",
    "version": 3
   },
   "file_extension": ".py",
   "mimetype": "text/x-python",
   "name": "python",
   "nbconvert_exporter": "python",
   "pygments_lexer": "ipython3",
   "version": "3.9.7"
  }
 },
 "nbformat": 4,
 "nbformat_minor": 5
}
